{
 "cells": [
  {
   "cell_type": "code",
   "execution_count": null,
   "id": "initial_id",
   "metadata": {
    "collapsed": true,
    "is_executing": true
   },
   "outputs": [],
   "source": [
    "from operator.src.utils.parse_to_df import parse_to_df\n",
    "\n",
    "with open(\"config.txt\") as f:\n",
    "    content = f.read()\n",
    "\n",
    "\n",
    "def list_to_string(lst):\n",
    "    return \"[\" + ', '.join(map(str, lst)) + \"]\"\n",
    "\n",
    "\n",
    "df = parse_to_df(content)\n",
    "\n",
    "a = df.groupby([\"source_ip\", \"dest_ip\"]).agg(list).reset_index()\n",
    "a\n"
   ]
  },
  {
   "cell_type": "code",
   "outputs": [],
   "source": [
    "# Apply the function to all cells in the DataFrame\n",
    "b = a.map(lambda x: list_to_string(x) if isinstance(x, list) else x)\n",
    "\n",
    "c = b.groupby([\"dest_port\", 'dest_ip']).agg(list).reset_index()\n",
    "c"
   ],
   "metadata": {
    "collapsed": false
   },
   "id": "60fb0c02fd274bdd"
  },
  {
   "cell_type": "code",
   "outputs": [],
   "source": [],
   "metadata": {
    "collapsed": false
   },
   "id": "ac5c18180f080846"
  }
 ],
 "metadata": {
  "kernelspec": {
   "display_name": "Python 3",
   "language": "python",
   "name": "python3"
  },
  "language_info": {
   "codemirror_mode": {
    "name": "ipython",
    "version": 2
   },
   "file_extension": ".py",
   "mimetype": "text/x-python",
   "name": "python",
   "nbconvert_exporter": "python",
   "pygments_lexer": "ipython2",
   "version": "2.7.6"
  }
 },
 "nbformat": 4,
 "nbformat_minor": 5
}
